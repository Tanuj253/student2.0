{
 "cells": [
  {
   "cell_type": "markdown",
   "metadata": {},
   "source": [
    "---\n",
    "layout: post\n",
    "toc: true\n",
    "title: Quiz Corrections\n",
    "description: 12/22/2023\n",
    "courses: { csa: {week: 15} }\n",
    "type: ccc\n",
    "---"
   ]
  },
  {
   "cell_type": "markdown",
   "metadata": {},
   "source": [
    "# Problem 10\n",
    "The correct answer was B not C because regular guided tour tickets are set to 8, when they should be set to 10 and regular general admission tickets and child guided tour tickets are set to 6 when they should be set to 8.\n",
    "\n",
    "# Problem 15\n",
    "The correct answer was A not C because the two programs initialize i to different values, the same values are printed inside the loop because program A prints i and then increments it and program B increments i and then prints it.\n",
    "\n",
    "# Problem 16\n",
    "The correct answer was D not A because index should be decremented, not incremented and the decrement should be inserted between lines 7 and 8 to ensure that all elements are checked.\n",
    "\n",
    "# Problem 27\n",
    "The correct answer was D not C because problems that can be solved computationally can be solved without a connection to the Internet.\n",
    "\n",
    "# Problem 28\n",
    "The correct answer was B not D because both variables are assigned the initial value of alpha instead of different variables.\n",
    "\n",
    "# Problem 29\n",
    "The correct answer was A not C because removing a file’s metadata does not allow for reconstruction of the original data.\n",
    "\n",
    "# Problem 34\n",
    "The correct answer was C not A because the third call to BotMover attempts to moves the robot forward off the edge of the grid.\n",
    "\n",
    "# Problem 50\n",
    "The correct answer was D not B because Algorithm I and II worked in a reasonable time aswell as III.\n",
    "\n",
    "# Problem 56\n",
    "The correct answer was A not D because version II takes longer than version I.\n",
    "\n",
    "# Problem 58\n",
    "The correct answer was C not A because expression y = z evaluates to false, so false is returned as intended.\n",
    "\n",
    "# Problem 59\n",
    "The correct answer was C not D because open-source software can be continually updated without the original developers once it becomes available to the public.\n",
    "\n",
    "# Problem 60\n",
    "The correct answer was D not A because the third line of code assigns to count the length of bothList (12) minus the length of bothList (7), producing the incorrect result 5.\n",
    "\n",
    "# Problem 62\n",
    "The correct answer was A and B not D because x AND y evaluates to false, the body of the IF statement is not executed, and nothing is displayed.\n",
    "\n",
    "# Problem 63\n",
    "The correct answer was A and B not A and D because the quantity available for each book is multiplied by its selling price to determine the total amount of money received for selling all copies of the book.\n",
    "\n",
    "# Problem 64\n",
    "The correct answer was B & D not C because the procedure repeatedly adds -2 to result five times, resulting in the intended product -10  instead of the unintended product.\n",
    "\n",
    "# Problem 65\n",
    "The correct answer was B & C not A & D because it concatenates the substring \"lope\" and \"jacka\", storing the result \"lopejacka\" in animal.\n",
    "\n",
    "# Problem 66\n",
    "The correct answer was A & C not B & D because variable count should increase by 1 when currentNum is a perfect number, so it should be incremented in the body of the IF statement and every integer from start to end should be checked, so currentNum should be incremented inside the loop but outside the body of the IF statement.\n",
    "\n",
    "# Problem 67\n",
    "The correct answer was A&B and not C because the chosen code find the intended output instead of the unintended output."
   ]
  }
 ],
 "metadata": {
  "language_info": {
   "name": "python"
  }
 },
 "nbformat": 4,
 "nbformat_minor": 2
}
