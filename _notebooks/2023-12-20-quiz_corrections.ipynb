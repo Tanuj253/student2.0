{
 "cells": [
  {
   "cell_type": "markdown",
   "metadata": {},
   "source": [
    "---\n",
    "toc: True\n",
    "comments: True\n",
    "layout: post\n",
    "title: Collegeboard quiz\n",
    "description: CB quiz corrections\n",
    "type: collab\n",
    "courses: {'csp': {'week': 16}}\n",
    "author: Tanujsai N\n",
    "---"
   ]
  },
  {
   "cell_type": "markdown",
   "metadata": {},
   "source": [
    "# Problem 10\n",
    "The correct answer was B not C because regular guided tour tickets are set to 8, when they should be set to 10, and regular general admission tickets and child guided tour tickets are set to 6 when they should be set to 8. Additionally, adjusting these values aligns with the correct calculations.\n",
    "\n",
    "# Problem 15\n",
    "The correct answer was A not C because the two programs initialize i to different values; the same values are printed inside the loop because program A prints i and then increments it, and program B increments i and then prints it. Modifying the loop structure will address this discrepancy.\n",
    "\n",
    "# Problem 16\n",
    "The correct answer was D not A because the index should be decremented, not incremented, and the decrement should be inserted between lines 7 and 8 to ensure that all elements are checked. This adjustment ensures proper iteration through the elements.\n",
    "\n",
    "# Problem 27\n",
    "The correct answer was D not C because problems that can be solved computationally can be solved without a connection to the Internet. Recognizing the independence of computational problem-solving from internet connectivity is essential for the correct choice.\n",
    "\n",
    "# Problem 28\n",
    "The correct answer was B not D because both variables are assigned the initial value of alpha instead of different variables. Modifying the assignments to distinct variables is crucial for the correct functioning of the program.\n",
    "\n",
    "# Problem 29\n",
    "The correct answer was A not C because removing a file’s metadata does not allow for the reconstruction of the original data. Understanding the limitations of metadata removal ensures a more accurate assessment of the situation.\n",
    "\n",
    "# Problem 34\n",
    "The correct answer was C not A because the third call to BotMover attempts to move the robot forward off the edge of the grid. Ensuring that the robot's movement stays within the grid is crucial for correct implementation.\n",
    "\n",
    "# Problem 50\n",
    "The correct answer was D not B because Algorithm I and II worked in a reasonable time, as well as III. Acknowledging the efficiency of all algorithms is important for the correct evaluation of their performance.\n",
    "\n",
    "# Problem 56\n",
    "The correct answer was A not D because version II takes longer than version I. Recognizing the relative efficiency of different versions is essential for the accurate assessment of their performance.\n",
    "\n",
    "# Problem 58\n",
    "The correct answer was C not A because the expression y = z evaluates to false, so false is returned as intended. Understanding the logic and evaluation of expressions is crucial for correct interpretation.\n",
    "\n",
    "# Problem 59\n",
    "The correct answer was C not D because open-source software can be continually updated without the original developers once it becomes available to the public. Recognizing the nature of open-source development is vital for a proper understanding.\n",
    "\n",
    "# Problem 60\n",
    "The correct answer was D not A because the third line of code assigns to count the length of bothList (12) minus the length of bothList (7), producing the incorrect result 5. Correcting the calculation is crucial for accurate results.\n",
    "\n",
    "# Problem 62\n",
    "The correct answer was A and B not D because x AND y evaluates to false; the body of the IF statement is not executed, and nothing is displayed. Understanding the logical conditions is essential for correct control flow.\n",
    "\n",
    "# Problem 63\n",
    "The correct answer was A and B not A and D because the quantity available for each book is multiplied by its selling price to determine the total amount of money received for selling all copies of the book. Identifying the correct calculation is crucial for accurate financial assessment.\n",
    "\n",
    "# Problem 64\n",
    "The correct answer was B & D not C because the procedure repeatedly adds -2 to result five times, resulting in the intended product -10 instead of the unintended product. Recognizing the correct application of the procedure ensures accurate outcomes.\n",
    "\n",
    "# Problem 65\n",
    "The correct answer was B & C not A & D because it concatenates the substring \"lope\" and \"jacka,\" storing the result \"lopejacka\" in animal. Understanding the correct string concatenation is crucial for the intended result.\n",
    "\n",
    "# Problem 66\n",
    "The correct answer was A & C not B & D because the variable count should increase by 1 when currentNum is a perfect number, so it should be incremented in the body of the IF statement, and every integer from start to end should be checked, so currentNum should be incremented inside the loop but outside the body of the IF statement. Adjusting the loop structure ensures correct counting of perfect numbers.\n",
    "\n",
    "# Problem 67\n",
    "The correct answer was A&B and not C because the chosen code finds the intended output instead of the unintended output. Recognizing the correct code for the intended output is crucial for the accurate interpretation of the program."
   ]
  }
 ],
 "metadata": {
  "language_info": {
   "name": "python"
  }
 },
 "nbformat": 4,
 "nbformat_minor": 2
}
