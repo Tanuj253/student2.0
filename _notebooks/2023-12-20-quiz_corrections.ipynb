{
 "cells": [
  {
   "cell_type": "markdown",
   "metadata": {},
   "source": [
    "---\n",
    "layout: post\n",
    "toc: true\n",
    "title: Quiz Corrections\n",
    "description: 12/22/2023\n",
    "courses: { csp: {week: 13} }\n",
    "categories: [tangibles]\n",
    "type: ccc\n",
    "---"
   ]
  },
  {
   "cell_type": "markdown",
   "metadata": {},
   "source": [
    "# Problem 10\n",
    "The correct answer was B not C because regular guided tour tickets are set to 8, when they should be set to 10 and regular general admission tickets and child guided tour tickets are set to 6 when they should be set to 8.\n",
    "\n",
    "# Problem 15\n",
    "The correct answer was A not C because the two programs initialize i to different values, the same values are printed inside the loop because program A prints i and then increments it and program B increments i and then prints it.\n",
    "\n",
    "# Problem 16\n",
    "The correct answer was D not A because index should be decremented, not incremented and the decrement should be inserted between lines 7 and 8 to ensure that all elements are checked.\n",
    "\n",
    "# Problem 27\n",
    "The correct answer was D not C because problems that can be solved computationally can be solved without a connection to the Internet.\n",
    "\n",
    "# Problem 28\n",
    "The correct answer was B and not D because both variables are assigned the initial value of alpha instead of different variables.\n",
    "\n",
    "# Problem 29\n",
    "The correct answer was A and not C because removing a file’s metadata does not allow for reconstruction of the original data.\n",
    "\n",
    "# Problem 34\n",
    "The correct answer was  and not  because .\n",
    "\n",
    "# Problem 50\n",
    "The correct answer was  and not  because .\n",
    "\n",
    "# Problem 56\n",
    "The correct answer was  and not  because .\n",
    "\n",
    "# Problem 58\n",
    "The correct answer was  and not  because .\n",
    "\n",
    "# Problem 59\n",
    "The correct answer was  and not  because .\n",
    "\n",
    "# Problem 60\n",
    "The correct answer was  and not  because .\n",
    "\n",
    "# Problem 62\n",
    "The correct answer was  and not  because .\n",
    "\n",
    "# Problem 63\n",
    "The correct answer was  and not  because .\n",
    "\n",
    "# Problem 64\n",
    "The correct answer was  and not  because .\n",
    "\n",
    "# Problem 65\n",
    "The correct answer was  and not  because .\n",
    "\n",
    "# Problem 66\n",
    "The correct answer was  and not  because .\n",
    "\n",
    "# Problem 67\n",
    "The correct answer was  and not  because .\n"
   ]
  }
 ],
 "metadata": {
  "language_info": {
   "name": "python"
  }
 },
 "nbformat": 4,
 "nbformat_minor": 2
}
