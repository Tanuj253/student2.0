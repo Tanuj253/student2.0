{
 "cells": [
  {
   "cell_type": "markdown",
   "metadata": {},
   "source": [
    "---\n",
    "comments: true\n",
    "layout: post\n",
    "title: Tri 2 Individual Review\n",
    "description: Review of Tri two project\n",
    "type: hacks \n",
    "courses: { compsci: {week: 21} }\n",
    "---"
   ]
  },
  {
   "cell_type": "markdown",
   "metadata": {},
   "source": [
    "# Project Overview\n",
    "\n",
    "Our project is mainly focused around something everyone in my group enjoys, video games and fun. Video games was something we could all agree on and something we enjoy playing regularly. Even though we all love video games there should only be a certain amount you should play a day, and thats why we made this project. Our project focuses on putting games right next to education and physical hubs so they are easy to access and motivate our users to while enjoying the game to do other things. We then included other sources of fun; Memes. They were funny ways to  Our project has features that help and give you tips on physical health and help studying and finding out what level of education you are at, while also letting the users relax and have fun."
   ]
  },
  {
   "cell_type": "markdown",
   "metadata": {},
   "source": [
    "# My Feature and Work\n",
    "\n",
    "My feature is an image database that holds and brings Memes up for users to see. It takes in images as a user uploads them and stores them until a user clicks \"generate\" to bring a random image from the database. I also worked on deployment to launch our project."
   ]
  },
  {
   "cell_type": "markdown",
   "metadata": {},
   "source": [
    "# Component A:Program Code\n",
    "\n",
    "| Collegeboard Requirements                                                                                                                                                      | Me |\n",
    "|--------------------------------------------------------------------------------------------------------------------------------------------------------------------------------|----|\n",
    "| Instructions for input from one of the following: the user, a device, an online datas stream, a file.                                                                          |    |\n",
    "| Use of at least one list (or other collection type) to represent a collectino of data that is stored and used to manage program complexity and help fulfill the users purpose. |    |\n",
    "| At least one procedure that contirubted to the program’s intened purpose where you have defined: the name, return type, one or more parameters:                                |<a href=\"https://ibb.co/thxbJMr\"><img src=\"https://i.ibb.co/FW0BDbT/Screenshot-2024-02-26-144750.png\" alt=\"Screenshot-2024-02-26-144750\" border=\"0\"></a>|\n",
    "| An algorithm that includes sequencing, selection, and iteration that is in the body of the selected procedure                                                                  |<a href=\"https://ibb.co/Lnhrh21\"><img src=\"https://i.ibb.co/KFzDz3W/Screenshot-2024-02-26-145427.png\" alt=\"Screenshot-2024-02-26-145427\" border=\"0\"></a>|\n",
    "| Calls to your student-developed prodcedure:                                                                                                                                    |<a href=\"https://ibb.co/jypb6CP\"><img src=\"https://i.ibb.co/rxWF7BR/Screenshot-2024-02-26-145910.png\" alt=\"Screenshot-2024-02-26-145910\" border=\"0\"></a>|\n",
    "| Instructions for output (tactile, audible, visual, or ) based on input and program functionality                                                                               |<a href=\"https://ibb.co/4236GZn\"><img src=\"https://i.ibb.co/HC3WsDf/Screenshot-2024-02-26-150207.png\" alt=\"Screenshot-2024-02-26-150207\" border=\"0\"></a>|"
   ]
  },
  {
   "cell_type": "markdown",
   "metadata": {},
   "source": [
    "# Component B:Video\n",
    "\n",
    "\n",
    "\n",
    "| Collegeboard Requirements                                | Me                                                                   |\n",
    "|----------------------------------------------------------|----------------------------------------------------------------------|\n",
    "| Input to program                                         | Seen in video, uploading meme                                        |\n",
    "| At least one aspect of the functionality of your program | Generate feature pulling image uploaded                              |\n",
    "| Output produced by program:                              | When clicking \"Generate\", different memes output.                    |\n",
    "| My video does not have:                                  | Any distinguishing information and voice narration                   |\n",
    "| My video is                                              | A .webmb, less than 1 minute in length, less than 30MB in file size. |"
   ]
  }
 ],
 "metadata": {
  "language_info": {
   "name": "python"
  }
 },
 "nbformat": 4,
 "nbformat_minor": 2
}
