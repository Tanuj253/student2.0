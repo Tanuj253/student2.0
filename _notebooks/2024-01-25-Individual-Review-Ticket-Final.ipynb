{
 "cells": [
  {
   "cell_type": "markdown",
   "metadata": {},
   "source": [
    "---\n",
    "toc: True\n",
    "comments: True\n",
    "layout: post\n",
    "title: Individual Review Ticket\n",
    "description: Review Ticket for Tri 2 Project\n",
    "type: collab\n",
    "courses: {'csp': {'week': 16}}\n",
    "author: Tanujsai N\n",
    "---"
   ]
  },
  {
   "cell_type": "markdown",
   "metadata": {},
   "source": [
    "# Project Overview\n",
    "\n",
    "Our project centers on something that all members of our group enjoy: video games and fun. Video games are a shared interest among us and something we regularly enjoy playing. Despite our love for gaming, we recognize the importance of moderation in gaming habits, which is why we developed this project. Our focus is on integrating gaming alongside educational, physical, and meme content hubs for easy access, aiming to motivate users to have fun while learning. Additionally, we've incorporated memes as another source of entertainment, offering an amusing way to engage with current events. Our project includes features designed to promote physical health, aid in studying, assess educational levels, and, importantly, allow users to unwind and enjoy themselves."
   ]
  },
  {
   "cell_type": "markdown",
   "metadata": {},
   "source": [
    "# My Feature and Work\n",
    "\n",
    "My feature is an image database that holds and brings Memes up for users to see. It takes in images as a user uploads them and stores them until a user clicks \"generate\" to bring a random image from the database. I also worked on deployment to launch our project."
   ]
  },
  {
   "cell_type": "markdown",
   "metadata": {},
   "source": [
    "# Component A: Program Code\n",
    "\n",
    "| Collegeboard Requirements                                                                                                                                                      | Me |\n",
    "|--------------------------------------------------------------------------------------------------------------------------------------------------------------------------------|----|\n",
    "| Instructions for input from one of the following: the user, a device, an online data stream, a file.                                                                          | My feature takes a file as input to post onto the database with this code: |\n",
    "|                                                                                                                                                                                | ![Input Instructions](https://i.ibb.co/SXgmXVW/Screenshot-2024-02-26-225249.png) |\n",
    "| Use of at least one list (or other collection type) to represent a collection of data that is stored and used to manage program complexity and help fulfill the user's purpose. | The list my feature uses is a SQLite table that uses JSON collection to pass data from between the frontend and backend. This stores our images to be added to and retrieved from for our \"generate\" feature and \"upload\" feature. This database can be seen here: |\n",
    "|                                                                                                                                                                                | ![Data Storage](https://i.ibb.co/Y3jQ9y8/Screenshot-2024-02-26-225709.png) |\n",
    "| At least one procedure that contributed to the program’s intended purpose where you have defined: the name, return type, one or more parameters:                                 | Procedure details can be found here: |\n",
    "|                                                                                                                                                                                | ![Procedure](https://i.ibb.co/FW0BDbT/Screenshot-2024-02-26-144750.png) |\n",
    "| An algorithm that includes sequencing, selection, and iteration that is in the body of the selected procedure                                                                  | Algorithm details can be found here: |\n",
    "|                                                                                                                                                                                | ![Algorithm](https://i.ibb.co/KFzDz3W/Screenshot-2024-02-26-145427.png) |\n",
    "| Calls to your student-developed procedure:                                                                                                                                    | Call details can be found here: |\n",
    "|                                                                                                                                                                                | ![Call](https://i.ibb.co/rxWF7BR/Screenshot-2024-02-26-145910.png) |\n",
    "| Instructions for output (tactile, audible, visual, or ) based on input and program functionality                                                                               | Output instructions can be found here: |\n",
    "|                                                                                                                                                                                | ![Output Instructions](https://i.ibb.co/HC3WsDf/Screenshot-2024-02-26-150207.png) |\n"
   ]
  },
  {
   "cell_type": "markdown",
   "metadata": {},
   "source": [
    "# Component B: Video\n",
    "\n",
    "[Link to video](https://drive.google.com/file/d/1DwEQN2Wpf58C5XHcTnKei0qQUjdLknI4/view?usp=sharing)\n",
    "\n",
    "| Collegeboard Requirements                                | Me                                                                   |\n",
    "|----------------------------------------------------------|----------------------------------------------------------------------|\n",
    "| Input to program                                         | Seen in video, uploading meme.                                       |\n",
    "| At least one aspect of the functionality of your program | Generate feature pulling image uploaded                              |\n",
    "| Output produced by program:                              | When clicking \"Generate\", different memes output.                    |\n",
    "| My video does not have:                                  | Any distinguishing information and voice narration                   |\n",
    "| My video is                                              | A .webmb, less than 1 minute in length, less than 30MB in file size. |\n"
   ]
  }
 ],
 "metadata": {
  "language_info": {
   "name": "python"
  }
 },
 "nbformat": 4,
 "nbformat_minor": 2
}
