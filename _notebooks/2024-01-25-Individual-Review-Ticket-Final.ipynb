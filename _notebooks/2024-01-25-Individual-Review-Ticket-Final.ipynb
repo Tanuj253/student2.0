{
 "cells": [
  {
   "cell_type": "markdown",
   "metadata": {},
   "source": [
    "---\n",
    "toc: True\n",
    "comments: True\n",
    "layout: post\n",
    "title: Individual Review Ticket\n",
    "description: CB quiz corrections\n",
    "type: collab\n",
    "courses: {'csp': {'week': 16}}\n",
    "author: Tanujsai N\n",
    "---"
   ]
  },
  {
   "cell_type": "markdown",
   "metadata": {},
   "source": [
    "# Project Overview\n",
    "\n",
    "Our project centers on something that all members of our group enjoy: video games and fun. Video games are a shared interest among us and something we regularly enjoy playing. Despite our love for gaming, we recognize the importance of moderation in gaming habits, which is why we developed this project. Our focus is on integrating gaming alongside educational, physical, and meme content hubs for easy access, aiming to motivate users to have fun while learning. Additionally, we've incorporated memes as another source of entertainment, offering an amusing way to engage with current events. Our project includes features designed to promote physical health, aid in studying, assess educational levels, and, importantly, allow users to unwind and enjoy themselves."
   ]
  },
  {
   "cell_type": "markdown",
   "metadata": {},
   "source": [
    "# My Feature and Work\n",
    "\n",
    "My feature is an image database that holds and brings Memes up for users to see. It takes in images as a user uploads them and stores them until a user clicks \"generate\" to bring a random image from the database. I also worked on deployment to launch our project."
   ]
  },
  {
   "cell_type": "markdown",
   "metadata": {},
   "source": [
    "# Component A:Program Code\n",
    "\n",
    "| Collegeboard Requirements                                                                                                                                                      | Me |\n",
    "|--------------------------------------------------------------------------------------------------------------------------------------------------------------------------------|----|\n",
    "\n",
    "\n",
    "\n",
    "\n",
    "| Instructions for input from one of the following: the user, a device, an online datas stream, a file.                                                                          | My feature takes a file as input to post onto the database with this code: <a href=\"https://ibb.co/sv41vsk\"><img src=\"https://i.ibb.co/SXgmXVW/Screenshot-2024-02-26-225249.png\" alt=\"Screenshot-2024-02-26-225249\" border=\"0\"></a>|\n",
    "\n",
    "\n",
    "\n",
    "| Use of at least one list (or other collection type) to represent a collectino of data that is stored and used to manage program complexity and help fulfill the users purpose. |The list my feature uses is a SQLite table that uses JSON collection to pass data from between the frontend and backend. This stores our images to be added to and retreived from for our \"generate\" feature and \"upload\" feature. This database can be seen here: <a href=\"https://ibb.co/2yKh2sP\"><img src=\"https://i.ibb.co/Y3jQ9y8/Screenshot-2024-02-26-225709.png\" alt=\"Screenshot-2024-02-26-225709\" border=\"0\"></a>|\n",
    "\n",
    "\n",
    "\n",
    "| At least one procedure that contirubted to the program’s intened purpose where you have defined: the name, return type, one or more parameters:                                |<a href=\"https://ibb.co/thxbJMr\"><img src=\"https://i.ibb.co/FW0BDbT/Screenshot-2024-02-26-144750.png\" alt=\"Screenshot-2024-02-26-144750\" border=\"0\"></a>|\n",
    "\n",
    "\n",
    "\n",
    "| An algorithm that includes sequencing, selection, and iteration that is in the body of the selected procedure                                                                  |<a href=\"https://ibb.co/Lnhrh21\"><img src=\"https://i.ibb.co/KFzDz3W/Screenshot-2024-02-26-145427.png\" alt=\"Screenshot-2024-02-26-145427\" border=\"0\"></a>|\n",
    "\n",
    "\n",
    "\n",
    "| Calls to your student-developed prodcedure:                                                                                                                                    |<a href=\"https://ibb.co/jypb6CP\"><img src=\"https://i.ibb.co/rxWF7BR/Screenshot-2024-02-26-145910.png\" alt=\"Screenshot-2024-02-26-145910\" border=\"0\"></a>|\n",
    "\n",
    "\n",
    "\n",
    "| Instructions for output (tactile, audible, visual, or ) based on input and program functionality                                                                               |<a href=\"https://ibb.co/4236GZn\"><img src=\"https://i.ibb.co/HC3WsDf/Screenshot-2024-02-26-150207.png\" alt=\"Screenshot-2024-02-26-150207\" border=\"0\"></a>|"
   ]
  },
  {
   "cell_type": "markdown",
   "metadata": {},
   "source": [
    "# Component B:Video\n",
    "\n",
    "\n",
    "\n",
    "| Collegeboard Requirements                                | Me                                                                   |\n",
    "|----------------------------------------------------------|----------------------------------------------------------------------|\n",
    "\n",
    "\n",
    "| Input to program                                         | Seen in video, uploading meme                                        |\n",
    "\n",
    "| At least one aspect of the functionality of your program | Generate feature pulling image uploaded                              |\n",
    "\n",
    "| Output produced by program:                              | When clicking \"Generate\", different memes output.                    |\n",
    "\n",
    "| My video does not have:                                  | Any distinguishing information and voice narration                   |\n",
    "\n",
    "| My video is                                              | A .webmb, less than 1 minute in length, less than 30MB in file size. |"
   ]
  }
 ],
 "metadata": {
  "language_info": {
   "name": "python"
  }
 },
 "nbformat": 4,
 "nbformat_minor": 2
}
